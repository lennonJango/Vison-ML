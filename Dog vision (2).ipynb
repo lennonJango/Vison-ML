{
 "cells": [
  {
   "cell_type": "code",
   "execution_count": 119,
   "id": "a84ae75f",
   "metadata": {},
   "outputs": [],
   "source": [
    "import tensorflow as tf\n",
    "from tensorflow.keras import layers, models\n",
    "from tensorflow.keras.preprocessing.image import ImageDataGenerator\n",
    "import os \n"
   ]
  },
  {
   "cell_type": "code",
   "execution_count": 120,
   "id": "5d69ed50",
   "metadata": {},
   "outputs": [
    {
     "name": "stdout",
     "output_type": "stream",
     "text": [
      "\\Teste Ml\\Vision ML\\dog2.jpg\n"
     ]
    }
   ],
   "source": [
    "# Carregados as imagens\n",
    "\n",
    "imgdog1=r'\\Teste Ml\\Vision ML\\dog2.jpg'\n",
    "\n",
    "imgdog2=\"http://localhost:8888/view/Teste%20Ml/Vision%20ML/dog2.jpg\"\n",
    "imgdog3 =\"http://localhost:8888/view/Teste%20Ml/Vision%20ML/dog3.jpeg\"\n",
    "\n",
    "print(imgdog1)"
   ]
  },
  {
   "cell_type": "code",
   "execution_count": 142,
   "id": "11654bb3",
   "metadata": {},
   "outputs": [
    {
     "ename": "FileNotFoundError",
     "evalue": "[WinError 3] O sistema não conseguiu localizar o caminho especificado: 'C:\\\\Teste Ml\\\\Vision ML'",
     "output_type": "error",
     "traceback": [
      "\u001b[1;31m---------------------------------------------------------------------------\u001b[0m",
      "\u001b[1;31mFileNotFoundError\u001b[0m                         Traceback (most recent call last)",
      "Cell \u001b[1;32mIn[142], line 19\u001b[0m\n\u001b[0;32m     16\u001b[0m caminho_do_diretorio \u001b[38;5;241m=\u001b[39m \u001b[38;5;124m'\u001b[39m\u001b[38;5;124mC:\u001b[39m\u001b[38;5;130;01m\\\\\u001b[39;00m\u001b[38;5;124mTeste Ml\u001b[39m\u001b[38;5;130;01m\\\\\u001b[39;00m\u001b[38;5;124mVision ML\u001b[39m\u001b[38;5;124m'\u001b[39m\n\u001b[0;32m     18\u001b[0m \u001b[38;5;66;03m# Lista os arquivos no diretório\u001b[39;00m\n\u001b[1;32m---> 19\u001b[0m arquivos_no_diretorio \u001b[38;5;241m=\u001b[39m os\u001b[38;5;241m.\u001b[39mlistdir(caminho_do_diretorio)\n\u001b[0;32m     21\u001b[0m \u001b[38;5;66;03m# Mostra os nomes dos arquivos\u001b[39;00m\n\u001b[0;32m     22\u001b[0m \u001b[38;5;28;01mfor\u001b[39;00m arquivo \u001b[38;5;129;01min\u001b[39;00m arquivos_no_diretorio:\n",
      "\u001b[1;31mFileNotFoundError\u001b[0m: [WinError 3] O sistema não conseguiu localizar o caminho especificado: 'C:\\\\Teste Ml\\\\Vision ML'"
     ]
    }
   ],
   "source": [
    "\n",
    "\n",
    "# Diretório onde estão as imagens\n",
    "# diretorio_das_imagens =r'/Teste Ml/Vision ML/imagens'\n",
    "\n",
    "# print(diretorio_das_imagens)\n",
    "\n",
    "# caminho=os.path.join(diretorio_das_imagens).listdir\n",
    "\n",
    "# print(caminho)\n",
    "\n",
    "\n",
    "# \n",
    "\n",
    "import os\n",
    "\n",
    "# Especifica o caminho para o diretório\n",
    "caminho_do_diretorio = 'C:\\\\Teste Ml\\\\Vision ML'\n",
    "\n",
    "# Lista os arquivos no diretório\n",
    "arquivos_no_diretorio = os.listdir(caminho_do_diretorio)\n",
    "\n",
    "# Mostra os nomes dos arquivos\n",
    "for arquivo in arquivos_no_diretorio:\n",
    "    print(arquivo)\n",
    "\n",
    "\n",
    "# # Lista os caminhos das imagens no diretório\n",
    "# caminhos_das_imagens = [os.path.join(diretorio_das_imagens, imagem) for imagem in os.listdir(diretorio_das_imagens)]\n",
    "\n",
    "# # Mostra os caminhos das imagens\n",
    "# for caminho in caminhos_das_imagens:\n",
    "#     print(caminho)\n"
   ]
  },
  {
   "cell_type": "code",
   "execution_count": 113,
   "id": "0f67e30e",
   "metadata": {},
   "outputs": [],
   "source": [
    "# criando o gerador de treinamento\n",
    "\n",
    "imagem_gerador_treinamento = ImageDataGenerator(\n",
    "    rescale=1/225,  #Ajustado os tamanhos\n",
    "    zoom_range=0.2, #Ajustado os zoomm aleatorio das imagens\n",
    "     horizontal_flip=True,#Para inverter as fotos \n",
    "        shear_range=0.2,#Aplicando cisalhamento (cortes das imagens)\n",
    ")"
   ]
  },
  {
   "cell_type": "code",
   "execution_count": 114,
   "id": "87174ace",
   "metadata": {},
   "outputs": [
    {
     "name": "stdout",
     "output_type": "stream",
     "text": [
      "Cortes da imagem: 0.2\n",
      "Escala da imagem: 0.0044444444444444444\n",
      "Range de zoom  [0.8, 1.2]\n"
     ]
    }
   ],
   "source": [
    "# Testes do objecto imagem_gerador_treinamento\n",
    "print(\"Cortes da imagem:\",imagem_gerador_treinamento.shear_range)\n",
    "print(\"Escala da imagem:\",imagem_gerador_treinamento.rescale)\n",
    "print(\"Range de zoom \",imagem_gerador_treinamento.zoom_range)"
   ]
  },
  {
   "cell_type": "code",
   "execution_count": 115,
   "id": "f3bf838f",
   "metadata": {},
   "outputs": [],
   "source": [
    "# Gerador de validacao\n",
    "image_gerador_validacao = ImageDataGenerator(rescale=1./225)"
   ]
  },
  {
   "cell_type": "code",
   "execution_count": 116,
   "id": "5da4350a",
   "metadata": {},
   "outputs": [],
   "source": [
    "# Configurado os dados \n",
    "\n",
    "image_size =32\n",
    "altura=comprimento=150"
   ]
  },
  {
   "cell_type": "code",
   "execution_count": 117,
   "id": "66e88cf9",
   "metadata": {
    "scrolled": false
   },
   "outputs": [
    {
     "ename": "FileNotFoundError",
     "evalue": "[WinError 3] O sistema não conseguiu localizar o caminho especificado: '\\\\Teste Ml\\\\Vision ML\\\\dog2.jpg'",
     "output_type": "error",
     "traceback": [
      "\u001b[1;31m---------------------------------------------------------------------------\u001b[0m",
      "\u001b[1;31mFileNotFoundError\u001b[0m                         Traceback (most recent call last)",
      "Cell \u001b[1;32mIn[117], line 2\u001b[0m\n\u001b[0;32m      1\u001b[0m \u001b[38;5;66;03m# Treinado a primeira imagem \u001b[39;00m\n\u001b[1;32m----> 2\u001b[0m dados_treinamento1 \u001b[38;5;241m=\u001b[39m imagem_gerador_treinamento\u001b[38;5;241m.\u001b[39mflow_from_directory(\n\u001b[0;32m      3\u001b[0m     imgdog1,\n\u001b[0;32m      4\u001b[0m     target_size\u001b[38;5;241m=\u001b[39m[altura,comprimento],\n\u001b[0;32m      5\u001b[0m     batch_size\u001b[38;5;241m=\u001b[39mimage_size,\n\u001b[0;32m      6\u001b[0m     class_mode\u001b[38;5;241m=\u001b[39m\u001b[38;5;124m\"\u001b[39m\u001b[38;5;124mbinary\u001b[39m\u001b[38;5;124m\"\u001b[39m\n\u001b[0;32m      7\u001b[0m )\n",
      "File \u001b[1;32m~\\anaconda3\\Lib\\site-packages\\keras\\src\\preprocessing\\image.py:1649\u001b[0m, in \u001b[0;36mImageDataGenerator.flow_from_directory\u001b[1;34m(self, directory, target_size, color_mode, classes, class_mode, batch_size, shuffle, seed, save_to_dir, save_prefix, save_format, follow_links, subset, interpolation, keep_aspect_ratio)\u001b[0m\n\u001b[0;32m   1562\u001b[0m \u001b[38;5;28;01mdef\u001b[39;00m \u001b[38;5;21mflow_from_directory\u001b[39m(\n\u001b[0;32m   1563\u001b[0m     \u001b[38;5;28mself\u001b[39m,\n\u001b[0;32m   1564\u001b[0m     directory,\n\u001b[1;32m   (...)\u001b[0m\n\u001b[0;32m   1578\u001b[0m     keep_aspect_ratio\u001b[38;5;241m=\u001b[39m\u001b[38;5;28;01mFalse\u001b[39;00m,\n\u001b[0;32m   1579\u001b[0m ):\n\u001b[0;32m   1580\u001b[0m \u001b[38;5;250m    \u001b[39m\u001b[38;5;124;03m\"\"\"Takes the path to a directory & generates batches of augmented data.\u001b[39;00m\n\u001b[0;32m   1581\u001b[0m \n\u001b[0;32m   1582\u001b[0m \u001b[38;5;124;03m    Args:\u001b[39;00m\n\u001b[1;32m   (...)\u001b[0m\n\u001b[0;32m   1647\u001b[0m \u001b[38;5;124;03m        and `y` is a numpy array of corresponding labels.\u001b[39;00m\n\u001b[0;32m   1648\u001b[0m \u001b[38;5;124;03m    \"\"\"\u001b[39;00m\n\u001b[1;32m-> 1649\u001b[0m     \u001b[38;5;28;01mreturn\u001b[39;00m DirectoryIterator(\n\u001b[0;32m   1650\u001b[0m         directory,\n\u001b[0;32m   1651\u001b[0m         \u001b[38;5;28mself\u001b[39m,\n\u001b[0;32m   1652\u001b[0m         target_size\u001b[38;5;241m=\u001b[39mtarget_size,\n\u001b[0;32m   1653\u001b[0m         color_mode\u001b[38;5;241m=\u001b[39mcolor_mode,\n\u001b[0;32m   1654\u001b[0m         keep_aspect_ratio\u001b[38;5;241m=\u001b[39mkeep_aspect_ratio,\n\u001b[0;32m   1655\u001b[0m         classes\u001b[38;5;241m=\u001b[39mclasses,\n\u001b[0;32m   1656\u001b[0m         class_mode\u001b[38;5;241m=\u001b[39mclass_mode,\n\u001b[0;32m   1657\u001b[0m         data_format\u001b[38;5;241m=\u001b[39m\u001b[38;5;28mself\u001b[39m\u001b[38;5;241m.\u001b[39mdata_format,\n\u001b[0;32m   1658\u001b[0m         batch_size\u001b[38;5;241m=\u001b[39mbatch_size,\n\u001b[0;32m   1659\u001b[0m         shuffle\u001b[38;5;241m=\u001b[39mshuffle,\n\u001b[0;32m   1660\u001b[0m         seed\u001b[38;5;241m=\u001b[39mseed,\n\u001b[0;32m   1661\u001b[0m         save_to_dir\u001b[38;5;241m=\u001b[39msave_to_dir,\n\u001b[0;32m   1662\u001b[0m         save_prefix\u001b[38;5;241m=\u001b[39msave_prefix,\n\u001b[0;32m   1663\u001b[0m         save_format\u001b[38;5;241m=\u001b[39msave_format,\n\u001b[0;32m   1664\u001b[0m         follow_links\u001b[38;5;241m=\u001b[39mfollow_links,\n\u001b[0;32m   1665\u001b[0m         subset\u001b[38;5;241m=\u001b[39msubset,\n\u001b[0;32m   1666\u001b[0m         interpolation\u001b[38;5;241m=\u001b[39minterpolation,\n\u001b[0;32m   1667\u001b[0m         dtype\u001b[38;5;241m=\u001b[39m\u001b[38;5;28mself\u001b[39m\u001b[38;5;241m.\u001b[39mdtype,\n\u001b[0;32m   1668\u001b[0m     )\n",
      "File \u001b[1;32m~\\anaconda3\\Lib\\site-packages\\keras\\src\\preprocessing\\image.py:563\u001b[0m, in \u001b[0;36mDirectoryIterator.__init__\u001b[1;34m(self, directory, image_data_generator, target_size, color_mode, classes, class_mode, batch_size, shuffle, seed, data_format, save_to_dir, save_prefix, save_format, follow_links, subset, interpolation, keep_aspect_ratio, dtype)\u001b[0m\n\u001b[0;32m    561\u001b[0m \u001b[38;5;28;01mif\u001b[39;00m \u001b[38;5;129;01mnot\u001b[39;00m classes:\n\u001b[0;32m    562\u001b[0m     classes \u001b[38;5;241m=\u001b[39m []\n\u001b[1;32m--> 563\u001b[0m     \u001b[38;5;28;01mfor\u001b[39;00m subdir \u001b[38;5;129;01min\u001b[39;00m \u001b[38;5;28msorted\u001b[39m(os\u001b[38;5;241m.\u001b[39mlistdir(directory)):\n\u001b[0;32m    564\u001b[0m         \u001b[38;5;28;01mif\u001b[39;00m os\u001b[38;5;241m.\u001b[39mpath\u001b[38;5;241m.\u001b[39misdir(os\u001b[38;5;241m.\u001b[39mpath\u001b[38;5;241m.\u001b[39mjoin(directory, subdir)):\n\u001b[0;32m    565\u001b[0m             classes\u001b[38;5;241m.\u001b[39mappend(subdir)\n",
      "\u001b[1;31mFileNotFoundError\u001b[0m: [WinError 3] O sistema não conseguiu localizar o caminho especificado: '\\\\Teste Ml\\\\Vision ML\\\\dog2.jpg'"
     ]
    }
   ],
   "source": [
    "# Treinado a primeira imagem \n",
    "dados_treinamento1 = imagem_gerador_treinamento.flow_from_directory(\n",
    "    imgdog1,\n",
    "    target_size=[altura,comprimento],\n",
    "    batch_size=image_size,\n",
    "    class_mode=\"binary\"\n",
    ")"
   ]
  },
  {
   "cell_type": "code",
   "execution_count": null,
   "id": "73fe3789",
   "metadata": {},
   "outputs": [],
   "source": []
  }
 ],
 "metadata": {
  "kernelspec": {
   "display_name": "Python 3 (ipykernel)",
   "language": "python",
   "name": "python3"
  },
  "language_info": {
   "codemirror_mode": {
    "name": "ipython",
    "version": 3
   },
   "file_extension": ".py",
   "mimetype": "text/x-python",
   "name": "python",
   "nbconvert_exporter": "python",
   "pygments_lexer": "ipython3",
   "version": "3.11.5"
  }
 },
 "nbformat": 4,
 "nbformat_minor": 5
}

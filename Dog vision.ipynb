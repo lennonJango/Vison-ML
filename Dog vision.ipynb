{
 "cells": [
  {
   "cell_type": "code",
   "execution_count": 67,
   "id": "a84ae75f",
   "metadata": {},
   "outputs": [],
   "source": [
    "import tensorflow as tf\n",
    "from tensorflow.keras import layers, models\n",
    "from tensorflow.keras.preprocessing.image import ImageDataGenerator\n",
    "import os \n"
   ]
  },
  {
   "cell_type": "code",
   "execution_count": 68,
   "id": "5d69ed50",
   "metadata": {},
   "outputs": [
    {
     "name": "stdout",
     "output_type": "stream",
     "text": [
      "\\Teste Ml\\Vision ML\\dog2.jpg\n"
     ]
    }
   ],
   "source": [
    "# Carregados as imagens\n",
    "\n",
    "imgdog1=r'\\Teste Ml\\Vision ML\\dog2.jpg'\n",
    "imgdog2=\"http://localhost:8888/view/Teste%20Ml/Vision%20ML/dog2.jpg\"\n",
    "imgdog3 =\"http://localhost:8888/view/Teste%20Ml/Vision%20ML/dog3.jpeg\"\n",
    "\n",
    "print(imgdog1)"
   ]
  },
  {
   "cell_type": "code",
   "execution_count": 69,
   "id": "11654bb3",
   "metadata": {
    "scrolled": true
   },
   "outputs": [
    {
     "name": "stdout",
     "output_type": "stream",
     "text": [
      "['dog', 'dog2']\n"
     ]
    }
   ],
   "source": [
    "\n",
    "# Especifica o caminho para o diretório\n",
    "caminho_do_diretorio =  \"C:/Users/Lennon Jango/Teste_Ml/Vision_ML/imagens\"\n",
    "\n",
    "\n",
    "# Lista os arquivos no diretório\n",
    "arquivos_no_diretorio = os.listdir(caminho_do_diretorio)\n",
    "print(arquivos_no_diretorio)\n"
   ]
  },
  {
   "cell_type": "code",
   "execution_count": 70,
   "id": "8073fd5e",
   "metadata": {},
   "outputs": [
    {
     "name": "stdout",
     "output_type": "stream",
     "text": [
      "C:/Users/Lennon Jango/Teste_Ml/Vision_ML\\imagens\n"
     ]
    }
   ],
   "source": [
    "caminho_do_diretorio1 = 'C:/Users/Lennon Jango/Teste_Ml/Vision_ML'\n",
    "\n",
    "# Nome do arquivo\n",
    "nome_do_arquivo1 = 'imagens'\n",
    "\n",
    "# Junte o caminho do diretório e o nome do arquivo\n",
    "caminho_completo1 = os.path.join(caminho_do_diretorio1, nome_do_arquivo1)\n",
    "\n",
    "# Exibe o caminho completo\n",
    "print(caminho_completo1)"
   ]
  },
  {
   "cell_type": "code",
   "execution_count": 71,
   "id": "0f67e30e",
   "metadata": {},
   "outputs": [],
   "source": [
    "# criando o gerador de treinamento\n",
    "imagem_gerador_treinamento = ImageDataGenerator(\n",
    "    rescale=1/225,  #Ajustado os tamanhos\n",
    "    zoom_range=0.2, #Ajustado os zoomm aleatorio das imagens\n",
    "     horizontal_flip=True,#Para inverter as fotos \n",
    "        shear_range=0.2,#Aplicando cisalhamento (cortes das imagens)\n",
    ")"
   ]
  },
  {
   "cell_type": "code",
   "execution_count": 72,
   "id": "87174ace",
   "metadata": {},
   "outputs": [
    {
     "name": "stdout",
     "output_type": "stream",
     "text": [
      "Cortes da imagem: 0.2\n",
      "Escala da imagem: 0.0044444444444444444\n",
      "Range de zoom  [0.8, 1.2]\n"
     ]
    }
   ],
   "source": [
    "# Testes do objecto imagem_gerador_treinamento\n",
    "print(\"Cortes da imagem:\",imagem_gerador_treinamento.shear_range)\n",
    "print(\"Escala da imagem:\",imagem_gerador_treinamento.rescale)\n",
    "print(\"Range de zoom \",imagem_gerador_treinamento.zoom_range)"
   ]
  },
  {
   "cell_type": "code",
   "execution_count": 73,
   "id": "f3bf838f",
   "metadata": {},
   "outputs": [],
   "source": [
    "# Gerador de validacao\n",
    "image_gerador_validacao = ImageDataGenerator(rescale=1./225)"
   ]
  },
  {
   "cell_type": "code",
   "execution_count": 74,
   "id": "5da4350a",
   "metadata": {},
   "outputs": [],
   "source": [
    "# Configurado os dados \n",
    "\n",
    "image_size =32\n",
    "altura=comprimento=150"
   ]
  },
  {
   "cell_type": "code",
   "execution_count": 75,
   "id": "66e88cf9",
   "metadata": {
    "scrolled": true
   },
   "outputs": [
    {
     "name": "stdout",
     "output_type": "stream",
     "text": [
      "Found 6 images belonging to 2 classes.\n"
     ]
    }
   ],
   "source": [
    "# Treinado a primeira imagem \n",
    "dados_treinamento1 = imagem_gerador_treinamento.flow_from_directory(\n",
    " caminho_do_diretorio,\n",
    "    target_size=[altura,comprimento],\n",
    "    batch_size=image_size,\n",
    "    class_mode=\"binary\",\n",
    "    subset=\"training\"\n",
    ")"
   ]
  },
  {
   "cell_type": "code",
   "execution_count": 76,
   "id": "73fe3789",
   "metadata": {},
   "outputs": [
    {
     "name": "stdout",
     "output_type": "stream",
     "text": [
      "Found 0 images belonging to 2 classes.\n"
     ]
    }
   ],
   "source": [
    "# Carregado dados de treinamento \n",
    "dados_validacao =image_gerador_validacao.flow_from_directory(\n",
    " caminho_do_diretorio,\n",
    "    target_size=[altura,comprimento],\n",
    "    batch_size=image_size,\n",
    "    class_mode=\"binary\",\n",
    "     subset=\"validation\"\n",
    ")"
   ]
  },
  {
   "cell_type": "code",
   "execution_count": 77,
   "id": "9d7943ba",
   "metadata": {},
   "outputs": [],
   "source": [
    "# criando a arquitetura do modelo \n",
    "\n",
    "\n",
    "modelo = models.Sequential()\n",
    "modelo.add(layers.Conv2D(32, (3, 3), activation='relu', input_shape=(altura, comprimento, 3)))\n",
    "modelo.add(layers.MaxPooling2D((2, 2)))\n",
    "modelo.add(layers.Conv2D(64, (3, 3), activation='relu'))\n",
    "modelo.add(layers.MaxPooling2D((2, 2)))\n",
    "modelo.add(layers.Conv2D(128, (3, 3), activation='relu'))\n",
    "modelo.add(layers.MaxPooling2D((2, 2)))\n",
    "modelo.add(layers.Flatten())\n",
    "modelo.add(layers.Dense(128, activation='relu'))\n",
    "modelo.add(layers.Dense(1, activation='sigmoid')) #posso ajustar para numero de classes que tenho (imagens) \n"
   ]
  },
  {
   "cell_type": "code",
   "execution_count": 78,
   "id": "7d1aace6",
   "metadata": {},
   "outputs": [],
   "source": [
    "# Compilado o modelo \n",
    "\n",
    "modelo.compile(optimizer='adam', loss='binary_crossentropy', metrics=['accuracy'])\n"
   ]
  },
  {
   "cell_type": "code",
   "execution_count": 81,
   "id": "72bf8961",
   "metadata": {},
   "outputs": [
    {
     "name": "stdout",
     "output_type": "stream",
     "text": [
      "Epoch 1/6\n",
      "1/1 [==============================] - 1s 952ms/step - loss: 0.7822 - accuracy: 0.5000\n",
      "Epoch 2/6\n",
      "1/1 [==============================] - 1s 923ms/step - loss: 0.6832 - accuracy: 0.5000\n",
      "Epoch 3/6\n",
      "1/1 [==============================] - 1s 1s/step - loss: 0.6893 - accuracy: 0.5000\n",
      "Epoch 4/6\n",
      "1/1 [==============================] - 1s 896ms/step - loss: 0.7127 - accuracy: 0.5000\n",
      "Epoch 5/6\n",
      "1/1 [==============================] - 1s 927ms/step - loss: 0.6895 - accuracy: 0.5000\n",
      "Epoch 6/6\n",
      "1/1 [==============================] - 1s 1s/step - loss: 0.6994 - accuracy: 0.5000\n"
     ]
    },
    {
     "data": {
      "text/plain": [
       "<keras.src.callbacks.History at 0x2675d74ed90>"
      ]
     },
     "execution_count": 81,
     "metadata": {},
     "output_type": "execute_result"
    }
   ],
   "source": [
    "# Ajustando a validacao \n",
    "modelo.fit(\n",
    "    dados_treinamento1,\n",
    "    epochs=6,\n",
    "    validation_data=dados_validacao\n",
    ")\n"
   ]
  },
  {
   "cell_type": "code",
   "execution_count": 82,
   "id": "144ec212",
   "metadata": {},
   "outputs": [
    {
     "name": "stdout",
     "output_type": "stream",
     "text": [
      "1/1 [==============================] - 1s 934ms/step - loss: 0.6861 - accuracy: 0.5000\n",
      "[0.6860921382904053, 0.5]\n"
     ]
    }
   ],
   "source": [
    "# Obtendo os resultados \n",
    "\n",
    "resultado= modelo.evaluate(dados_treinamento1)\n",
    "print(resultado)"
   ]
  },
  {
   "cell_type": "code",
   "execution_count": 93,
   "id": "c42d2aa2",
   "metadata": {},
   "outputs": [
    {
     "name": "stdout",
     "output_type": "stream",
     "text": [
      "Found 3 images belonging to 1 classes.\n",
      "1/1 [==============================] - 0s 299ms/step - loss: 0.7204 - accuracy: 0.0000e+00\n"
     ]
    }
   ],
   "source": [
    "# Testando com  novas imagens(gatos)\n",
    "\n",
    "directorioGatos = \"C:/Users/Lennon Jango/Teste_Ml/Vision_ML/imagens_gatos\"\n",
    "# print(os.listdir(directorioGatos))\n",
    "\n",
    "dados_treinamento_gatos = imagem_gerador_treinamento.flow_from_directory(\n",
    " directorioGatos,\n",
    "    target_size=[altura,comprimento],\n",
    "    batch_size=image_size,\n",
    "    class_mode=\"binary\",\n",
    "    subset=\"training\"\n",
    ")\n",
    "\n",
    "testeResultado = modelo.evaluate(dados_treinamento_gatos )"
   ]
  },
  {
   "cell_type": "code",
   "execution_count": null,
   "id": "be1a5e87",
   "metadata": {},
   "outputs": [],
   "source": []
  }
 ],
 "metadata": {
  "kernelspec": {
   "display_name": "Python 3 (ipykernel)",
   "language": "python",
   "name": "python3"
  },
  "language_info": {
   "codemirror_mode": {
    "name": "ipython",
    "version": 3
   },
   "file_extension": ".py",
   "mimetype": "text/x-python",
   "name": "python",
   "nbconvert_exporter": "python",
   "pygments_lexer": "ipython3",
   "version": "3.11.5"
  }
 },
 "nbformat": 4,
 "nbformat_minor": 5
}
